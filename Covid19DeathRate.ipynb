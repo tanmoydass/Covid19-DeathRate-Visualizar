{
  "nbformat": 4,
  "nbformat_minor": 0,
  "metadata": {
    "colab": {
      "provenance": [],
      "collapsed_sections": [],
      "authorship_tag": "ABX9TyNdpgpP7bnyVyxNA2T05V67"
    },
    "kernelspec": {
      "name": "python3",
      "display_name": "Python 3"
    },
    "language_info": {
      "name": "python"
    }
  },
  "cells": [
    {
      "cell_type": "code",
      "execution_count": null,
      "metadata": {
        "colab": {
          "base_uri": "https://localhost:8080/"
        },
        "id": "rCl1db7jWhqy",
        "outputId": "8254721e-bcf8-4d66-8c46-de4cca454014"
      },
      "outputs": [
        {
          "output_type": "stream",
          "name": "stdout",
          "text": [
            "Looking in indexes: https://pypi.org/simple, https://us-python.pkg.dev/colab-wheels/public/simple/\n",
            "Requirement already satisfied: wget in /usr/local/lib/python3.7/dist-packages (3.2)\n"
          ]
        }
      ],
      "source": [
        "pip install wget"
      ]
    },
    {
      "cell_type": "code",
      "source": [
        "import wget"
      ],
      "metadata": {
        "id": "QDNqdmVnW8q_"
      },
      "execution_count": null,
      "outputs": []
    },
    {
      "cell_type": "code",
      "source": [
        "import os"
      ],
      "metadata": {
        "id": "XlB4TJysW_aq"
      },
      "execution_count": null,
      "outputs": []
    },
    {
      "cell_type": "code",
      "source": [
        "url = 'https://covid19.who.int/WHO-COVID-19-global-table-data.csv'"
      ],
      "metadata": {
        "id": "P5WLAHkGXBm3"
      },
      "execution_count": 96,
      "outputs": []
    },
    {
      "cell_type": "code",
      "source": [
        "if os.path.exists('data.csv'):\n",
        "\tos.remove('data.csv')\n",
        "\twget.download(url, 'data.csv')\n",
        "else:\n",
        "\twget.download(url, 'data.csv')"
      ],
      "metadata": {
        "id": "Ke-MMmbbXImI"
      },
      "execution_count": 98,
      "outputs": []
    },
    {
      "cell_type": "code",
      "source": [
        "import pandas as pd"
      ],
      "metadata": {
        "id": "CWLSgX_9XNnk"
      },
      "execution_count": 91,
      "outputs": []
    },
    {
      "cell_type": "code",
      "source": [
        "import seaborn as sns"
      ],
      "metadata": {
        "id": "0qhhuSDrcGdT"
      },
      "execution_count": 92,
      "outputs": []
    },
    {
      "cell_type": "code",
      "source": [
        "import matplotlib.pyplot as plt"
      ],
      "metadata": {
        "id": "sw6iWfsYcpWu"
      },
      "execution_count": 93,
      "outputs": []
    },
    {
      "cell_type": "code",
      "source": [
        "import numpy as np"
      ],
      "metadata": {
        "id": "cOOaXhxvcuxl"
      },
      "execution_count": 94,
      "outputs": []
    },
    {
      "cell_type": "code",
      "source": [
        "df=pd.read_csv(\"data.csv\")"
      ],
      "metadata": {
        "id": "iIib93NZXSt5"
      },
      "execution_count": 146,
      "outputs": []
    },
    {
      "cell_type": "code",
      "source": [
        "df_copy=df.copy()"
      ],
      "metadata": {
        "id": "IveQPiT4XewR"
      },
      "execution_count": 147,
      "outputs": []
    },
    {
      "cell_type": "code",
      "source": [
        "df_copy.rename(columns = {'Name':'Landmass','WHO Region':'Cases - cumulative total','Cases - cumulative total':'Cases - cumulative total per 100000 population','Cases - cumulative total per 100000 population':'Cases - newly reported in last 7 days','Cases - newly reported in last 7 days':'Cases - newly reported in last 7 days per 100000 population','Cases - newly reported in last 7 days per 100000 population':'Cases - newly reported in last 24 hours','Cases - newly reported in last 24 hours':'Deaths - cumulative total','Deaths - cumulative total':'Deaths - cumulative total per 100000 population','Deaths - cumulative total per 100000 population':'Deaths - newly reported in last 7 days','Deaths - newly reported in last 7 days':'Deaths - newly reported in last 7 days per 100000 population','Deaths - newly reported in last 7 days per 100000 population':'Deaths - newly reported in last 24 hours','Deaths - newly reported in last 24 hours':'Nothing'}, inplace = True)"
      ],
      "metadata": {
        "id": "0uSEZvqGdS1O"
      },
      "execution_count": 149,
      "outputs": []
    },
    {
      "cell_type": "code",
      "source": [
        "df_copy=df_copy.drop(columns=['Nothing'])"
      ],
      "metadata": {
        "id": "jB5P7UY_P6pT"
      },
      "execution_count": 151,
      "outputs": []
    },
    {
      "cell_type": "code",
      "source": [
        "df_copy=df_copy.dropna()"
      ],
      "metadata": {
        "id": "IeVwIkqzQpYz"
      },
      "execution_count": 153,
      "outputs": []
    },
    {
      "cell_type": "code",
      "source": [
        "df_copy.info()"
      ],
      "metadata": {
        "colab": {
          "base_uri": "https://localhost:8080/"
        },
        "id": "G4cK0WfAda-X",
        "outputId": "71b514f2-847b-4108-eda2-1f487d10bf16"
      },
      "execution_count": 155,
      "outputs": [
        {
          "output_type": "stream",
          "name": "stdout",
          "text": [
            "<class 'pandas.core.frame.DataFrame'>\n",
            "Index: 236 entries, United States of America to Turkmenistan\n",
            "Data columns (total 11 columns):\n",
            " #   Column                                                        Non-Null Count  Dtype  \n",
            "---  ------                                                        --------------  -----  \n",
            " 0   Landmass                                                      236 non-null    object \n",
            " 1   Cases - cumulative total                                      236 non-null    int64  \n",
            " 2   Cases - cumulative total per 100000 population                236 non-null    float64\n",
            " 3   Cases - newly reported in last 7 days                         236 non-null    int64  \n",
            " 4   Cases - newly reported in last 7 days per 100000 population   236 non-null    float64\n",
            " 5   Cases - newly reported in last 24 hours                       236 non-null    int64  \n",
            " 6   Deaths - cumulative total                                     236 non-null    int64  \n",
            " 7   Deaths - cumulative total per 100000 population               236 non-null    float64\n",
            " 8   Deaths - newly reported in last 7 days                        236 non-null    int64  \n",
            " 9   Deaths - newly reported in last 7 days per 100000 population  236 non-null    float64\n",
            " 10  Deaths - newly reported in last 24 hours                      236 non-null    int64  \n",
            "dtypes: float64(4), int64(6), object(1)\n",
            "memory usage: 22.1+ KB\n"
          ]
        }
      ]
    },
    {
      "cell_type": "code",
      "source": [
        "df_copy=df_copy.assign(DeathRate24Hours=(df_copy['Deaths - newly reported in last 24 hours']/df_copy['Cases - newly reported in last 24 hours'])*100)\n",
        "df_copy=df_copy.assign(DeathRate7Days=(df_copy['Deaths - newly reported in last 7 days']/df_copy['Cases - newly reported in last 7 days'])*100)\n",
        "df_copy=df_copy.assign(DeathRateTotal=(df_copy['Deaths - cumulative total']/df_copy['Cases - cumulative total'])*100)\n",
        "\n",
        "\n",
        "df_copy"
      ],
      "metadata": {
        "colab": {
          "base_uri": "https://localhost:8080/",
          "height": 679
        },
        "id": "-nuvD9b1X1pD",
        "outputId": "c1353ca8-e2da-4048-ae5c-90ed28f48763"
      },
      "execution_count": 182,
      "outputs": [
        {
          "output_type": "execute_result",
          "data": {
            "text/plain": [
              "                                 Landmass  Cases - cumulative total  \\\n",
              "United States of America         Americas                  93580725   \n",
              "India                     South-East Asia                  44472241   \n",
              "Brazil                           Americas                  34477539   \n",
              "France                             Europe                  33599863   \n",
              "Germany                            Europe                  32344032   \n",
              "...                                   ...                       ...   \n",
              "Palau                     Western Pacific                      5403   \n",
              "Anguilla                         Americas                      3851   \n",
              "Sint Eustatius                   Americas                      1194   \n",
              "Montserrat                       Americas                      1190   \n",
              "Saba                             Americas                       723   \n",
              "\n",
              "                          Cases - cumulative total per 100000 population  \\\n",
              "United States of America                                       28271.896   \n",
              "India                                                           3222.616   \n",
              "Brazil                                                         16220.189   \n",
              "France                                                         51660.815   \n",
              "Germany                                                        38890.599   \n",
              "...                                                                  ...   \n",
              "Palau                                                          29864.028   \n",
              "Anguilla                                                       25669.911   \n",
              "Sint Eustatius                                                 38037.592   \n",
              "Montserrat                                                     23804.761   \n",
              "Saba                                                           37403.001   \n",
              "\n",
              "                          Cases - newly reported in last 7 days  \\\n",
              "United States of America                                 476675   \n",
              "India                                                     43848   \n",
              "Brazil                                                    80334   \n",
              "France                                                   105883   \n",
              "Germany                                                  181064   \n",
              "...                                                         ...   \n",
              "Palau                                                        55   \n",
              "Anguilla                                                     14   \n",
              "Sint Eustatius                                                5   \n",
              "Montserrat                                                   64   \n",
              "Saba                                                          9   \n",
              "\n",
              "                          Cases - newly reported in last 7 days per 100000 population  \\\n",
              "United States of America                                            144.009             \n",
              "India                                                                 3.177             \n",
              "Brazil                                                               37.794             \n",
              "France                                                              162.798             \n",
              "Germany                                                             217.712             \n",
              "...                                                                     ...             \n",
              "Palau                                                               304.002             \n",
              "Anguilla                                                             93.321             \n",
              "Sint Eustatius                                                      159.286             \n",
              "Montserrat                                                         1280.256             \n",
              "Saba                                                                465.598             \n",
              "\n",
              "                          Cases - newly reported in last 24 hours  \\\n",
              "United States of America                                    25686   \n",
              "India                                                        5379   \n",
              "Brazil                                                          0   \n",
              "France                                                      26918   \n",
              "Germany                                                     33311   \n",
              "...                                                           ...   \n",
              "Palau                                                           0   \n",
              "Anguilla                                                        0   \n",
              "Sint Eustatius                                                  5   \n",
              "Montserrat                                                      0   \n",
              "Saba                                                            9   \n",
              "\n",
              "                          Deaths - cumulative total  \\\n",
              "United States of America                    1036949   \n",
              "India                                        528057   \n",
              "Brazil                                       684425   \n",
              "France                                       150804   \n",
              "Germany                                      147981   \n",
              "...                                             ...   \n",
              "Palau                                             6   \n",
              "Anguilla                                         11   \n",
              "Sint Eustatius                                    5   \n",
              "Montserrat                                        8   \n",
              "Saba                                              2   \n",
              "\n",
              "                          Deaths - cumulative total per 100000 population  \\\n",
              "United States of America                                          313.275   \n",
              "India                                                              38.265   \n",
              "Brazil                                                            321.992   \n",
              "France                                                            231.866   \n",
              "Germany                                                           177.933   \n",
              "...                                                                   ...   \n",
              "Palau                                                              33.164   \n",
              "Anguilla                                                           73.324   \n",
              "Sint Eustatius                                                    159.286   \n",
              "Montserrat                                                        160.032   \n",
              "Saba                                                              103.466   \n",
              "\n",
              "                          Deaths - newly reported in last 7 days  \\\n",
              "United States of America                                    2423   \n",
              "India                                                        183   \n",
              "Brazil                                                       803   \n",
              "France                                                       281   \n",
              "Germany                                                       45   \n",
              "...                                                          ...   \n",
              "Palau                                                          0   \n",
              "Anguilla                                                       0   \n",
              "Sint Eustatius                                                 0   \n",
              "Montserrat                                                     0   \n",
              "Saba                                                           0   \n",
              "\n",
              "                          Deaths - newly reported in last 7 days per 100000 population  \\\n",
              "United States of America                                              0.732              \n",
              "India                                                                 0.013              \n",
              "Brazil                                                                0.378              \n",
              "France                                                                0.432              \n",
              "Germany                                                               0.054              \n",
              "...                                                                     ...              \n",
              "Palau                                                                 0.000              \n",
              "Anguilla                                                              0.000              \n",
              "Sint Eustatius                                                        0.000              \n",
              "Montserrat                                                            0.000              \n",
              "Saba                                                                  0.000              \n",
              "\n",
              "                          Deaths - newly reported in last 24 hours  \\\n",
              "United States of America                                        67   \n",
              "India                                                           27   \n",
              "Brazil                                                           0   \n",
              "France                                                          60   \n",
              "Germany                                                          4   \n",
              "...                                                            ...   \n",
              "Palau                                                            0   \n",
              "Anguilla                                                        -1   \n",
              "Sint Eustatius                                                   0   \n",
              "Montserrat                                                       0   \n",
              "Saba                                                             0   \n",
              "\n",
              "                          DeathRate24Hours  DeathRate7Days  DeathRateTotal  \n",
              "United States of America          0.260842        0.508313        1.108080  \n",
              "India                             0.501952        0.417351        1.187386  \n",
              "Brazil                                 NaN        0.999577        1.985133  \n",
              "France                            0.222899        0.265387        0.448823  \n",
              "Germany                           0.012008        0.024853        0.457522  \n",
              "...                                    ...             ...             ...  \n",
              "Palau                                  NaN        0.000000        0.111049  \n",
              "Anguilla                              -inf        0.000000        0.285640  \n",
              "Sint Eustatius                    0.000000        0.000000        0.418760  \n",
              "Montserrat                             NaN        0.000000        0.672269  \n",
              "Saba                              0.000000        0.000000        0.276625  \n",
              "\n",
              "[175 rows x 14 columns]"
            ],
            "text/html": [
              "\n",
              "  <div id=\"df-9b2a5eec-580d-4e23-a996-2110c44b4228\">\n",
              "    <div class=\"colab-df-container\">\n",
              "      <div>\n",
              "<style scoped>\n",
              "    .dataframe tbody tr th:only-of-type {\n",
              "        vertical-align: middle;\n",
              "    }\n",
              "\n",
              "    .dataframe tbody tr th {\n",
              "        vertical-align: top;\n",
              "    }\n",
              "\n",
              "    .dataframe thead th {\n",
              "        text-align: right;\n",
              "    }\n",
              "</style>\n",
              "<table border=\"1\" class=\"dataframe\">\n",
              "  <thead>\n",
              "    <tr style=\"text-align: right;\">\n",
              "      <th></th>\n",
              "      <th>Landmass</th>\n",
              "      <th>Cases - cumulative total</th>\n",
              "      <th>Cases - cumulative total per 100000 population</th>\n",
              "      <th>Cases - newly reported in last 7 days</th>\n",
              "      <th>Cases - newly reported in last 7 days per 100000 population</th>\n",
              "      <th>Cases - newly reported in last 24 hours</th>\n",
              "      <th>Deaths - cumulative total</th>\n",
              "      <th>Deaths - cumulative total per 100000 population</th>\n",
              "      <th>Deaths - newly reported in last 7 days</th>\n",
              "      <th>Deaths - newly reported in last 7 days per 100000 population</th>\n",
              "      <th>Deaths - newly reported in last 24 hours</th>\n",
              "      <th>DeathRate24Hours</th>\n",
              "      <th>DeathRate7Days</th>\n",
              "      <th>DeathRateTotal</th>\n",
              "    </tr>\n",
              "  </thead>\n",
              "  <tbody>\n",
              "    <tr>\n",
              "      <th>United States of America</th>\n",
              "      <td>Americas</td>\n",
              "      <td>93580725</td>\n",
              "      <td>28271.896</td>\n",
              "      <td>476675</td>\n",
              "      <td>144.009</td>\n",
              "      <td>25686</td>\n",
              "      <td>1036949</td>\n",
              "      <td>313.275</td>\n",
              "      <td>2423</td>\n",
              "      <td>0.732</td>\n",
              "      <td>67</td>\n",
              "      <td>0.260842</td>\n",
              "      <td>0.508313</td>\n",
              "      <td>1.108080</td>\n",
              "    </tr>\n",
              "    <tr>\n",
              "      <th>India</th>\n",
              "      <td>South-East Asia</td>\n",
              "      <td>44472241</td>\n",
              "      <td>3222.616</td>\n",
              "      <td>43848</td>\n",
              "      <td>3.177</td>\n",
              "      <td>5379</td>\n",
              "      <td>528057</td>\n",
              "      <td>38.265</td>\n",
              "      <td>183</td>\n",
              "      <td>0.013</td>\n",
              "      <td>27</td>\n",
              "      <td>0.501952</td>\n",
              "      <td>0.417351</td>\n",
              "      <td>1.187386</td>\n",
              "    </tr>\n",
              "    <tr>\n",
              "      <th>Brazil</th>\n",
              "      <td>Americas</td>\n",
              "      <td>34477539</td>\n",
              "      <td>16220.189</td>\n",
              "      <td>80334</td>\n",
              "      <td>37.794</td>\n",
              "      <td>0</td>\n",
              "      <td>684425</td>\n",
              "      <td>321.992</td>\n",
              "      <td>803</td>\n",
              "      <td>0.378</td>\n",
              "      <td>0</td>\n",
              "      <td>NaN</td>\n",
              "      <td>0.999577</td>\n",
              "      <td>1.985133</td>\n",
              "    </tr>\n",
              "    <tr>\n",
              "      <th>France</th>\n",
              "      <td>Europe</td>\n",
              "      <td>33599863</td>\n",
              "      <td>51660.815</td>\n",
              "      <td>105883</td>\n",
              "      <td>162.798</td>\n",
              "      <td>26918</td>\n",
              "      <td>150804</td>\n",
              "      <td>231.866</td>\n",
              "      <td>281</td>\n",
              "      <td>0.432</td>\n",
              "      <td>60</td>\n",
              "      <td>0.222899</td>\n",
              "      <td>0.265387</td>\n",
              "      <td>0.448823</td>\n",
              "    </tr>\n",
              "    <tr>\n",
              "      <th>Germany</th>\n",
              "      <td>Europe</td>\n",
              "      <td>32344032</td>\n",
              "      <td>38890.599</td>\n",
              "      <td>181064</td>\n",
              "      <td>217.712</td>\n",
              "      <td>33311</td>\n",
              "      <td>147981</td>\n",
              "      <td>177.933</td>\n",
              "      <td>45</td>\n",
              "      <td>0.054</td>\n",
              "      <td>4</td>\n",
              "      <td>0.012008</td>\n",
              "      <td>0.024853</td>\n",
              "      <td>0.457522</td>\n",
              "    </tr>\n",
              "    <tr>\n",
              "      <th>...</th>\n",
              "      <td>...</td>\n",
              "      <td>...</td>\n",
              "      <td>...</td>\n",
              "      <td>...</td>\n",
              "      <td>...</td>\n",
              "      <td>...</td>\n",
              "      <td>...</td>\n",
              "      <td>...</td>\n",
              "      <td>...</td>\n",
              "      <td>...</td>\n",
              "      <td>...</td>\n",
              "      <td>...</td>\n",
              "      <td>...</td>\n",
              "      <td>...</td>\n",
              "    </tr>\n",
              "    <tr>\n",
              "      <th>Palau</th>\n",
              "      <td>Western Pacific</td>\n",
              "      <td>5403</td>\n",
              "      <td>29864.028</td>\n",
              "      <td>55</td>\n",
              "      <td>304.002</td>\n",
              "      <td>0</td>\n",
              "      <td>6</td>\n",
              "      <td>33.164</td>\n",
              "      <td>0</td>\n",
              "      <td>0.000</td>\n",
              "      <td>0</td>\n",
              "      <td>NaN</td>\n",
              "      <td>0.000000</td>\n",
              "      <td>0.111049</td>\n",
              "    </tr>\n",
              "    <tr>\n",
              "      <th>Anguilla</th>\n",
              "      <td>Americas</td>\n",
              "      <td>3851</td>\n",
              "      <td>25669.911</td>\n",
              "      <td>14</td>\n",
              "      <td>93.321</td>\n",
              "      <td>0</td>\n",
              "      <td>11</td>\n",
              "      <td>73.324</td>\n",
              "      <td>0</td>\n",
              "      <td>0.000</td>\n",
              "      <td>-1</td>\n",
              "      <td>-inf</td>\n",
              "      <td>0.000000</td>\n",
              "      <td>0.285640</td>\n",
              "    </tr>\n",
              "    <tr>\n",
              "      <th>Sint Eustatius</th>\n",
              "      <td>Americas</td>\n",
              "      <td>1194</td>\n",
              "      <td>38037.592</td>\n",
              "      <td>5</td>\n",
              "      <td>159.286</td>\n",
              "      <td>5</td>\n",
              "      <td>5</td>\n",
              "      <td>159.286</td>\n",
              "      <td>0</td>\n",
              "      <td>0.000</td>\n",
              "      <td>0</td>\n",
              "      <td>0.000000</td>\n",
              "      <td>0.000000</td>\n",
              "      <td>0.418760</td>\n",
              "    </tr>\n",
              "    <tr>\n",
              "      <th>Montserrat</th>\n",
              "      <td>Americas</td>\n",
              "      <td>1190</td>\n",
              "      <td>23804.761</td>\n",
              "      <td>64</td>\n",
              "      <td>1280.256</td>\n",
              "      <td>0</td>\n",
              "      <td>8</td>\n",
              "      <td>160.032</td>\n",
              "      <td>0</td>\n",
              "      <td>0.000</td>\n",
              "      <td>0</td>\n",
              "      <td>NaN</td>\n",
              "      <td>0.000000</td>\n",
              "      <td>0.672269</td>\n",
              "    </tr>\n",
              "    <tr>\n",
              "      <th>Saba</th>\n",
              "      <td>Americas</td>\n",
              "      <td>723</td>\n",
              "      <td>37403.001</td>\n",
              "      <td>9</td>\n",
              "      <td>465.598</td>\n",
              "      <td>9</td>\n",
              "      <td>2</td>\n",
              "      <td>103.466</td>\n",
              "      <td>0</td>\n",
              "      <td>0.000</td>\n",
              "      <td>0</td>\n",
              "      <td>0.000000</td>\n",
              "      <td>0.000000</td>\n",
              "      <td>0.276625</td>\n",
              "    </tr>\n",
              "  </tbody>\n",
              "</table>\n",
              "<p>175 rows × 14 columns</p>\n",
              "</div>\n",
              "      <button class=\"colab-df-convert\" onclick=\"convertToInteractive('df-9b2a5eec-580d-4e23-a996-2110c44b4228')\"\n",
              "              title=\"Convert this dataframe to an interactive table.\"\n",
              "              style=\"display:none;\">\n",
              "        \n",
              "  <svg xmlns=\"http://www.w3.org/2000/svg\" height=\"24px\"viewBox=\"0 0 24 24\"\n",
              "       width=\"24px\">\n",
              "    <path d=\"M0 0h24v24H0V0z\" fill=\"none\"/>\n",
              "    <path d=\"M18.56 5.44l.94 2.06.94-2.06 2.06-.94-2.06-.94-.94-2.06-.94 2.06-2.06.94zm-11 1L8.5 8.5l.94-2.06 2.06-.94-2.06-.94L8.5 2.5l-.94 2.06-2.06.94zm10 10l.94 2.06.94-2.06 2.06-.94-2.06-.94-.94-2.06-.94 2.06-2.06.94z\"/><path d=\"M17.41 7.96l-1.37-1.37c-.4-.4-.92-.59-1.43-.59-.52 0-1.04.2-1.43.59L10.3 9.45l-7.72 7.72c-.78.78-.78 2.05 0 2.83L4 21.41c.39.39.9.59 1.41.59.51 0 1.02-.2 1.41-.59l7.78-7.78 2.81-2.81c.8-.78.8-2.07 0-2.86zM5.41 20L4 18.59l7.72-7.72 1.47 1.35L5.41 20z\"/>\n",
              "  </svg>\n",
              "      </button>\n",
              "      \n",
              "  <style>\n",
              "    .colab-df-container {\n",
              "      display:flex;\n",
              "      flex-wrap:wrap;\n",
              "      gap: 12px;\n",
              "    }\n",
              "\n",
              "    .colab-df-convert {\n",
              "      background-color: #E8F0FE;\n",
              "      border: none;\n",
              "      border-radius: 50%;\n",
              "      cursor: pointer;\n",
              "      display: none;\n",
              "      fill: #1967D2;\n",
              "      height: 32px;\n",
              "      padding: 0 0 0 0;\n",
              "      width: 32px;\n",
              "    }\n",
              "\n",
              "    .colab-df-convert:hover {\n",
              "      background-color: #E2EBFA;\n",
              "      box-shadow: 0px 1px 2px rgba(60, 64, 67, 0.3), 0px 1px 3px 1px rgba(60, 64, 67, 0.15);\n",
              "      fill: #174EA6;\n",
              "    }\n",
              "\n",
              "    [theme=dark] .colab-df-convert {\n",
              "      background-color: #3B4455;\n",
              "      fill: #D2E3FC;\n",
              "    }\n",
              "\n",
              "    [theme=dark] .colab-df-convert:hover {\n",
              "      background-color: #434B5C;\n",
              "      box-shadow: 0px 1px 3px 1px rgba(0, 0, 0, 0.15);\n",
              "      filter: drop-shadow(0px 1px 2px rgba(0, 0, 0, 0.3));\n",
              "      fill: #FFFFFF;\n",
              "    }\n",
              "  </style>\n",
              "\n",
              "      <script>\n",
              "        const buttonEl =\n",
              "          document.querySelector('#df-9b2a5eec-580d-4e23-a996-2110c44b4228 button.colab-df-convert');\n",
              "        buttonEl.style.display =\n",
              "          google.colab.kernel.accessAllowed ? 'block' : 'none';\n",
              "\n",
              "        async function convertToInteractive(key) {\n",
              "          const element = document.querySelector('#df-9b2a5eec-580d-4e23-a996-2110c44b4228');\n",
              "          const dataTable =\n",
              "            await google.colab.kernel.invokeFunction('convertToInteractive',\n",
              "                                                     [key], {});\n",
              "          if (!dataTable) return;\n",
              "\n",
              "          const docLinkHtml = 'Like what you see? Visit the ' +\n",
              "            '<a target=\"_blank\" href=https://colab.research.google.com/notebooks/data_table.ipynb>data table notebook</a>'\n",
              "            + ' to learn more about interactive tables.';\n",
              "          element.innerHTML = '';\n",
              "          dataTable['output_type'] = 'display_data';\n",
              "          await google.colab.output.renderOutput(dataTable, element);\n",
              "          const docLink = document.createElement('div');\n",
              "          docLink.innerHTML = docLinkHtml;\n",
              "          element.appendChild(docLink);\n",
              "        }\n",
              "      </script>\n",
              "    </div>\n",
              "  </div>\n",
              "  "
            ]
          },
          "metadata": {},
          "execution_count": 182
        }
      ]
    },
    {
      "cell_type": "code",
      "source": [
        "df_copy=df_copy.dropna()"
      ],
      "metadata": {
        "id": "jYAIx9BvU2hC"
      },
      "execution_count": 183,
      "outputs": []
    },
    {
      "cell_type": "code",
      "source": [
        "#plt.figure(figsize = (12,10))\n",
        "sns.barplot(x=df_copy['Landmass'],y=df_copy['DeathRate24Hours'])\n",
        "plt.xticks(rotation = '75')\n",
        "plt.title(\"Death Rate of Last 24 Hours\",color='Blue')"
      ],
      "metadata": {
        "colab": {
          "base_uri": "https://localhost:8080/",
          "height": 507
        },
        "id": "Y5Zl9pR1cBTf",
        "outputId": "4b735245-1059-4b9f-fdcf-4654eb0cbb52"
      },
      "execution_count": 185,
      "outputs": [
        {
          "output_type": "stream",
          "name": "stderr",
          "text": [
            "/usr/local/lib/python3.7/dist-packages/numpy/core/_methods.py:179: RuntimeWarning: invalid value encountered in reduce\n",
            "  ret = umr_sum(arr, axis, dtype, out, keepdims, where=where)\n",
            "/usr/local/lib/python3.7/dist-packages/numpy/lib/function_base.py:4009: RuntimeWarning: invalid value encountered in subtract\n",
            "  diff_b_a = subtract(b, a)\n"
          ]
        },
        {
          "output_type": "execute_result",
          "data": {
            "text/plain": [
              "Text(0.5, 1.0, 'Death Rate of Last 24 Hours')"
            ]
          },
          "metadata": {},
          "execution_count": 185
        },
        {
          "output_type": "display_data",
          "data": {
            "text/plain": [
              "<Figure size 432x288 with 1 Axes>"
            ],
            "image/png": "[encoded data removed]"
          },
          "metadata": {
            "needs_background": "light"
          }
        }
      ]
    },
    {
      "cell_type": "code",
      "source": [
        "#plt.figure(figsize = (12,10))\n",
        "sns.barplot(x=df_copy['Landmass'],y=df_copy['DeathRate7Days'])\n",
        "plt.xticks(rotation = '75')\n",
        "plt.title(\"Death Rate of Last 7 Days\",color='Blue')"
      ],
      "metadata": {
        "colab": {
          "base_uri": "https://localhost:8080/",
          "height": 416
        },
        "id": "5N2V_lQPYabQ",
        "outputId": "e0e0cddc-3dc6-492c-f5b8-58d3fb388447"
      },
      "execution_count": 187,
      "outputs": [
        {
          "output_type": "execute_result",
          "data": {
            "text/plain": [
              "Text(0.5, 1.0, 'Death Rate of Last 7 Days')"
            ]
          },
          "metadata": {},
          "execution_count": 187
        },
        {
          "output_type": "display_data",
          "data": {
            "text/plain": [
              "<Figure size 432x288 with 1 Axes>"
            ],
            "image/png": "[encoded data removed]"
          },
          "metadata": {
            "needs_background": "light"
          }
        }
      ]
    },
    {
      "cell_type": "code",
      "source": [
        "#plt.figure(figsize = (12,10))\n",
        "sns.barplot(x=df_copy['Landmass'],y=df_copy['DeathRateTotal'])\n",
        "plt.xticks(rotation = '75')\n",
        "plt.title(\"Total Death Rate\",color='Blue')"
      ],
      "metadata": {
        "colab": {
          "base_uri": "https://localhost:8080/",
          "height": 416
        },
        "id": "vjJsQOeSYqqs",
        "outputId": "8732b75e-5edf-411a-9ffb-a2de3a4b5d9d"
      },
      "execution_count": 188,
      "outputs": [
        {
          "output_type": "execute_result",
          "data": {
            "text/plain": [
              "Text(0.5, 1.0, 'Total Death Rate')"
            ]
          },
          "metadata": {},
          "execution_count": 188
        },
        {
          "output_type": "display_data",
          "data": {
            "text/plain": [
              "<Figure size 432x288 with 1 Axes>"
            ],
            "image/png": "[encoded data removed]"
          },
          "metadata": {
            "needs_background": "light"
          }
        }
      ]
    }
  ]
}